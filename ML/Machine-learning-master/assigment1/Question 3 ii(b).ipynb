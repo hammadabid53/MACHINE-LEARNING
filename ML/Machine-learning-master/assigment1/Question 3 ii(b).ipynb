{
 "cells": [
  {
   "cell_type": "code",
   "execution_count": 36,
   "metadata": {},
   "outputs": [],
   "source": [
    "import pandas as pd\n",
    "import numpy as np\n",
    "import matplotlib.pyplot as plt\n",
    "import seaborn as sns\n",
    "from sklearn.model_selection import train_test_split\n",
    "from sklearn.linear_model import LinearRegression,Lasso,Ridge "
   ]
  },
  {
   "cell_type": "code",
   "execution_count": 40,
   "metadata": {},
   "outputs": [],
   "source": [
    "BostonTrain = pd.read_csv(\"boston_train.csv\")\n",
    "X = BostonTrain.drop('medv',1)\n",
    "y = BostonTrain['medv'] "
   ]
  },
  {
   "cell_type": "code",
   "execution_count": 41,
   "metadata": {},
   "outputs": [],
   "source": [
    "X_train, X_test, y_train, y_test =train_test_split(X, y, test_size=0.4) "
   ]
  },
  {
   "cell_type": "code",
   "execution_count": 42,
   "metadata": {},
   "outputs": [
    {
     "data": {
      "text/plain": [
       "LinearRegression(copy_X=True, fit_intercept=True, n_jobs=1, normalize=False)"
      ]
     },
     "execution_count": 42,
     "metadata": {},
     "output_type": "execute_result"
    }
   ],
   "source": [
    "model = LinearRegression()\n",
    "model.fit(X_train,y_train) "
   ]
  },
  {
   "cell_type": "code",
   "execution_count": 55,
   "metadata": {},
   "outputs": [
    {
     "name": "stdout",
     "output_type": "stream",
     "text": [
      "[17.71902603 19.50381826 19.8879891  19.83077877 25.754184   26.84015686\n",
      " 16.59516696 14.03739823 16.22031534 26.13766158 21.44747236 14.25409718\n",
      " 25.13104273 28.58944326 30.14761042 26.78511469 12.92407132 14.76285213\n",
      " 23.61526621 19.52768615 34.32660788 24.48138219 23.78031415 43.60328755\n",
      " 20.18871365 25.7850499  30.50739161 21.21420529 31.11078099  0.87235619\n",
      " 17.0375825  23.98235548 23.87058695 12.11753018 23.04998539 18.28203603\n",
      " 13.52726448 26.5304929  20.61944099 29.23001862 23.73395279 38.50641877\n",
      " 33.69350851 17.1056127  20.00902091 20.16552493 37.1847224  21.94867343\n",
      " 34.46400341 27.73917343 21.8116084   9.79937651 22.67828224 28.08158615\n",
      " 18.86710701 14.30837724 21.34536465 26.26629229 19.81146597 33.10130245\n",
      " 25.80785044 14.73906315 13.14452652 20.53325954 19.53182339 22.85532654\n",
      " 18.59586359 15.89753941 21.77211858 31.86430316 32.37519893 39.5017957\n",
      " 27.78261546 38.56247947 18.74256038 14.22071245 33.86934708 16.52144506\n",
      " 26.12286347 24.45013354 33.75151638 23.47211621 26.79540724 16.20878545\n",
      " 17.90147284 24.2649254  29.80816901 22.80828158 -4.61740774 27.67817009\n",
      " 18.01098012 30.1844183  28.85481511 23.41589676 24.96000443 20.46085434\n",
      " 18.26355194 19.34416412 26.20430621 30.9818302  30.17348036 18.45996071\n",
      " 31.26302517 14.36715946 19.74073514 33.25308086 20.1626052  17.51601693\n",
      " 14.78438659 21.75278208 38.0885065  26.78214297 21.23604042 11.13461296\n",
      " 18.49437813 12.38749317 21.48119352 20.83422712 38.40720974 24.49209076\n",
      " 17.79426043 27.22547909 15.42903969 23.54651431 16.25065058 32.43421083\n",
      "  2.3623044  28.13266248  6.43824832 30.37012333 27.60887425 21.44796288\n",
      " 21.49421505 17.56407948]\n"
     ]
    },
    {
     "data": {
      "text/plain": [
       "134"
      ]
     },
     "execution_count": 55,
     "metadata": {},
     "output_type": "execute_result"
    }
   ],
   "source": [
    "predictions = model.predict(X_test)\n",
    "print(predictions)\n",
    "len(predictions)"
   ]
  },
  {
   "cell_type": "code",
   "execution_count": 44,
   "metadata": {},
   "outputs": [
    {
     "data": {
      "image/png": "[encoded data removed]",
      "text/plain": [
       "<Figure size 432x288 with 1 Axes>"
      ]
     },
     "metadata": {
      "needs_background": "light"
     },
     "output_type": "display_data"
    }
   ],
   "source": [
    "plt.scatter(y_test, predictions)\n",
    "plt.xlabel('Y Test')\n",
    "plt.ylabel('Predicted Y')\n",
    "plt.show() "
   ]
  },
  {
   "cell_type": "code",
   "execution_count": null,
   "metadata": {},
   "outputs": [],
   "source": []
  }
 ],
 "metadata": {
  "kernelspec": {
   "display_name": "Python 3",
   "language": "python",
   "name": "python3"
  },
  "language_info": {
   "codemirror_mode": {
    "name": "ipython",
    "version": 3
   },
   "file_extension": ".py",
   "mimetype": "text/x-python",
   "name": "python",
   "nbconvert_exporter": "python",
   "pygments_lexer": "ipython3",
   "version": "3.7.0"
  }
 },
 "nbformat": 4,
 "nbformat_minor": 2
}
