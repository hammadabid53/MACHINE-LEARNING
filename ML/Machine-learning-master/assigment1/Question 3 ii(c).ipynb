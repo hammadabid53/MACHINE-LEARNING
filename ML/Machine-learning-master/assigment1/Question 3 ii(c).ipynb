{
 "cells": [
  {
   "cell_type": "code",
   "execution_count": 2,
   "metadata": {},
   "outputs": [],
   "source": [
    "import pandas as pd\n",
    "import numpy as np\n",
    "import matplotlib.pyplot as plt\n",
    "import seaborn as sns\n",
    "from sklearn.model_selection import train_test_split\n",
    "from sklearn.linear_model import LinearRegression,Lasso,Ridge \n",
    "from sklearn import metrics "
   ]
  },
  {
   "cell_type": "code",
   "execution_count": 3,
   "metadata": {},
   "outputs": [],
   "source": [
    "BostonTrain = pd.read_csv(\"boston_train.csv\")\n",
    "X = BostonTrain.drop('medv',1)\n",
    "y = BostonTrain['medv'] "
   ]
  },
  {
   "cell_type": "code",
   "execution_count": 4,
   "metadata": {},
   "outputs": [
    {
     "name": "stdout",
     "output_type": "stream",
     "text": [
      "MSE: 39.393646273049974 \t split:  0.1\n",
      "MSE: 39.372424071052805 \t split:  0.2\n",
      "MSE: 19.96472993734549 \t split:  0.30000000000000004\n",
      "MSE: 25.38848595982223 \t split:  0.4\n",
      "MSE: 29.35069950705412 \t split:  0.5\n",
      "MSE: 30.056973659519937 \t split:  0.6\n",
      "MSE: 36.21578557912899 \t split:  0.7\n",
      "MSE: 34.879211887370865 \t split:  0.7999999999999999\n",
      "MSE: 49.12627772126394 \t split:  0.8999999999999999\n"
     ]
    }
   ],
   "source": [
    "x=0.1\n",
    "for i in range(9):\n",
    "    \n",
    "    X_train, X_test, y_train, y_test =train_test_split(X, y, test_size=x) \n",
    "    model = LinearRegression()\n",
    "    model.fit(X_train,y_train) \n",
    "    predictions = model.predict(X_test)\n",
    "    print('MSE:',metrics.mean_squared_error(y_test,predictions),'\\t split: ',x)\n",
    "    x=x+0.1"
   ]
  },
  {
   "cell_type": "code",
   "execution_count": null,
   "metadata": {},
   "outputs": [],
   "source": []
  },
  {
   "cell_type": "code",
   "execution_count": null,
   "metadata": {},
   "outputs": [],
   "source": []
  },
  {
   "cell_type": "code",
   "execution_count": null,
   "metadata": {},
   "outputs": [],
   "source": []
  }
 ],
 "metadata": {
  "kernelspec": {
   "display_name": "Python 3",
   "language": "python",
   "name": "python3"
  },
  "language_info": {
   "codemirror_mode": {
    "name": "ipython",
    "version": 3
   },
   "file_extension": ".py",
   "mimetype": "text/x-python",
   "name": "python",
   "nbconvert_exporter": "python",
   "pygments_lexer": "ipython3",
   "version": "3.7.0"
  }
 },
 "nbformat": 4,
 "nbformat_minor": 2
}
